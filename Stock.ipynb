{
 "cells": [
  {
   "cell_type": "code",
   "execution_count": 1,
   "id": "a20fa6cf",
   "metadata": {},
   "outputs": [],
   "source": [
    "# IMPORTING IMPORTANT LIBRARIES\n",
    "import pandas as pd\n",
    "import matplotlib.pyplot as plt\n",
    "import numpy as np \n",
    "import math\n",
    "from sklearn.preprocessing import MinMaxScaler\n",
    "from sklearn.metrics import mean_squared_error\n",
    "from keras.models import Sequential\n",
    "from keras.layers import Dense, Activation\n",
    "from keras.layers import LSTM\n",
    "import preprocessing "
   ]
  },
  {
   "cell_type": "code",
   "execution_count": 2,
   "id": "caae296f",
   "metadata": {},
   "outputs": [],
   "source": [
    "# FOR REPRODUCIBILITY\n",
    "np.random.seed(7)"
   ]
  },
  {
   "cell_type": "code",
   "execution_count": 3,
   "id": "639a4613",
   "metadata": {},
   "outputs": [],
   "source": [
    "# IMPORTING DATASET \n",
    "dataset = pd.read_csv('apple_share_price.csv', usecols=[1,2,3,4])\n",
    "dataset = dataset.reindex(index = dataset.index[::-1])"
   ]
  },
  {
   "cell_type": "code",
   "execution_count": null,
   "id": "1e38f47b",
   "metadata": {},
   "outputs": [],
   "source": []
  },
  {
   "cell_type": "code",
   "execution_count": 4,
   "id": "de8bb0e5",
   "metadata": {},
   "outputs": [],
   "source": [
    "# IMPORTING DATASET \n",
    "dataset = pd.read_csv('apple_share_price.csv', usecols=[1,2,3,4])\n",
    "dataset = dataset.reindex(index = dataset.index[::-1])"
   ]
  },
  {
   "cell_type": "code",
   "execution_count": null,
   "id": "3f7a4def",
   "metadata": {},
   "outputs": [],
   "source": []
  },
  {
   "cell_type": "code",
   "execution_count": 5,
   "id": "29e5e016",
   "metadata": {},
   "outputs": [],
   "source": [
    "# IMPORTING DATASET \n",
    "dataset = pd.read_csv('apple_share_price.csv', usecols=[1,2,3,4])\n",
    "dataset = dataset.reindex(index = dataset.index[::-1])"
   ]
  },
  {
   "cell_type": "code",
   "execution_count": 6,
   "id": "12db0cd1",
   "metadata": {},
   "outputs": [],
   "source": [
    "# CREATING OWN INDEX FOR FLEXIBILITY\n",
    "obs = np.arange(1, len(dataset) + 1, 1)"
   ]
  },
  {
   "cell_type": "code",
   "execution_count": 7,
   "id": "5f8c1896",
   "metadata": {},
   "outputs": [],
   "source": [
    "# TAKING DIFFERENT INDICATORS FOR PREDICTION\n",
    "OHLC_avg = dataset.mean(axis = 1)\n",
    "HLC_avg = dataset[['High', 'Low', 'Close']].mean(axis = 1)\n",
    "close_val = dataset[['Close']]"
   ]
  },
  {
   "cell_type": "code",
   "execution_count": null,
   "id": "b8a56f6a",
   "metadata": {},
   "outputs": [],
   "source": []
  },
  {
   "cell_type": "code",
   "execution_count": 8,
   "id": "e4356a1b",
   "metadata": {},
   "outputs": [],
   "source": [
    "# TAKING DIFFERENT INDICATORS FOR PREDICTION\n",
    "OHLC_avg = dataset.mean(axis = 1)\n",
    "HLC_avg = dataset[['High', 'Low', 'Close']].mean(axis = 1)\n",
    "close_val = dataset[['Close']]"
   ]
  },
  {
   "cell_type": "code",
   "execution_count": 9,
   "id": "3fa3ff21",
   "metadata": {},
   "outputs": [
    {
     "data": {
      "image/png": "[encoded data removed]",
      "text/plain": [
       "<Figure size 432x288 with 1 Axes>"
      ]
     },
     "metadata": {
      "needs_background": "light"
     },
     "output_type": "display_data"
    }
   ],
   "source": [
    "# PLOTTING ALL INDICATORS IN ONE PLOT\n",
    "plt.plot(obs, OHLC_avg, 'r', label = 'OHLC avg')\n",
    "plt.plot(obs, HLC_avg, 'b', label = 'HLC avg')\n",
    "plt.plot(obs, close_val, 'g', label = 'Closing price')\n",
    "plt.legend(loc = 'upper right')\n",
    "plt.show()"
   ]
  },
  {
   "cell_type": "code",
   "execution_count": 10,
   "id": "a4d6473e",
   "metadata": {},
   "outputs": [],
   "source": [
    "# PREPARATION OF TIME SERIES DATASE\n",
    "OHLC_avg = np.reshape(OHLC_avg.values, (len(OHLC_avg),1)) # 1664\n",
    "scaler = MinMaxScaler(feature_range=(0, 1))\n",
    "OHLC_avg = scaler.fit_transform(OHLC_avg)"
   ]
  },
  {
   "cell_type": "code",
   "execution_count": 11,
   "id": "d6dff2f7",
   "metadata": {},
   "outputs": [],
   "source": [
    "# TRAIN-TEST SPLIT\n",
    "train_OHLC = int(len(OHLC_avg) * 0.75)\n",
    "test_OHLC = len(OHLC_avg) - train_OHLC\n",
    "train_OHLC, test_OHLC = OHLC_avg[0:train_OHLC,:], OHLC_avg[train_OHLC:len(OHLC_avg),:]"
   ]
  },
  {
   "cell_type": "code",
   "execution_count": 12,
   "id": "51aa072f",
   "metadata": {},
   "outputs": [],
   "source": [
    "# TIME-SERIES DATASET (FOR TIME T, VALUES FOR TIME T+1)\n",
    "trainX, trainY = preprocessing.new_dataset(train_OHLC, 1)\n",
    "testX, testY = preprocessing.new_dataset(test_OHLC, 1)"
   ]
  },
  {
   "cell_type": "code",
   "execution_count": 13,
   "id": "90f50860",
   "metadata": {},
   "outputs": [],
   "source": [
    "# RESHAPING TRAIN AND TEST DATA\n",
    "trainX = np.reshape(trainX, (trainX.shape[0], 1, trainX.shape[1]))\n",
    "testX = np.reshape(testX, (testX.shape[0], 1, testX.shape[1]))\n",
    "step_size = 1"
   ]
  },
  {
   "cell_type": "code",
   "execution_count": 14,
   "id": "99b736f4",
   "metadata": {},
   "outputs": [],
   "source": [
    "# LSTM MODEL\n",
    "model = Sequential()\n",
    "model.add(LSTM(32, input_shape=(1, step_size), return_sequences = True))\n",
    "model.add(LSTM(16))\n",
    "model.add(Dense(1))\n",
    "model.add(Activation('linear'))"
   ]
  },
  {
   "cell_type": "code",
   "execution_count": 15,
   "id": "ac5cdaad",
   "metadata": {},
   "outputs": [
    {
     "name": "stdout",
     "output_type": "stream",
     "text": [
      "Epoch 1/5\n",
      "1246/1246 - 11s - loss: 0.1058 - 11s/epoch - 9ms/step\n",
      "Epoch 2/5\n",
      "1246/1246 - 5s - loss: 0.0741 - 5s/epoch - 4ms/step\n",
      "Epoch 3/5\n",
      "1246/1246 - 5s - loss: 0.0600 - 5s/epoch - 4ms/step\n",
      "Epoch 4/5\n",
      "1246/1246 - 5s - loss: 0.0520 - 5s/epoch - 4ms/step\n",
      "Epoch 5/5\n",
      "1246/1246 - 5s - loss: 0.0473 - 5s/epoch - 4ms/step\n"
     ]
    },
    {
     "data": {
      "text/plain": [
       "<keras.callbacks.History at 0x18a9e25f310>"
      ]
     },
     "execution_count": 15,
     "metadata": {},
     "output_type": "execute_result"
    }
   ],
   "source": [
    "# MODEL COMPILING AND TRAINING\n",
    "model.compile(loss='mean_squared_error', optimizer='adagrad') # Try SGD, adam, adagrad and compare!!!\n",
    "model.fit(trainX, trainY, epochs=5, batch_size=1, verbose=2)"
   ]
  },
  {
   "cell_type": "code",
   "execution_count": 16,
   "id": "c32feaea",
   "metadata": {},
   "outputs": [
    {
     "name": "stdout",
     "output_type": "stream",
     "text": [
      "39/39 [==============================] - 2s 3ms/step\n",
      "13/13 [==============================] - 0s 4ms/step\n"
     ]
    }
   ],
   "source": [
    "# PREDICTION\n",
    "trainPredict = model.predict(trainX)\n",
    "testPredict = model.predict(testX)"
   ]
  },
  {
   "cell_type": "code",
   "execution_count": 17,
   "id": "f77d62db",
   "metadata": {},
   "outputs": [],
   "source": [
    "# DE-NORMALIZING FOR PLOTTING\n",
    "trainPredict = scaler.inverse_transform(trainPredict)\n",
    "trainY = scaler.inverse_transform([trainY])\n",
    "testPredict = scaler.inverse_transform(testPredict)\n",
    "testY = scaler.inverse_transform([testY])"
   ]
  },
  {
   "cell_type": "code",
   "execution_count": 18,
   "id": "16e11466",
   "metadata": {},
   "outputs": [
    {
     "name": "stdout",
     "output_type": "stream",
     "text": [
      "Train RMSE: 24.57\n"
     ]
    }
   ],
   "source": [
    "# TRAINING RMSE\n",
    "trainScore = math.sqrt(mean_squared_error(trainY[0], trainPredict[:,0]))\n",
    "print('Train RMSE: %.2f' % (trainScore))"
   ]
  },
  {
   "cell_type": "code",
   "execution_count": 19,
   "id": "6c9c5b00",
   "metadata": {},
   "outputs": [
    {
     "name": "stdout",
     "output_type": "stream",
     "text": [
      "Test RMSE: 45.40\n"
     ]
    }
   ],
   "source": [
    "# TEST RMSE\n",
    "testScore = math.sqrt(mean_squared_error(testY[0], testPredict[:,0]))\n",
    "print('Test RMSE: %.2f' % (testScore))"
   ]
  },
  {
   "cell_type": "code",
   "execution_count": 20,
   "id": "a3aaf029",
   "metadata": {},
   "outputs": [],
   "source": [
    "# CREATING SIMILAR DATASET TO PLOT TRAINING PREDICTIONS\n",
    "trainPredictPlot = np.empty_like(OHLC_avg)\n",
    "trainPredictPlot[:, :] = np.nan\n",
    "trainPredictPlot[step_size:len(trainPredict)+step_size, :] = trainPredict"
   ]
  },
  {
   "cell_type": "code",
   "execution_count": 21,
   "id": "8ea5078e",
   "metadata": {},
   "outputs": [],
   "source": [
    "# CREATING SIMILAR DATASSET TO PLOT TEST PREDICTIONS\n",
    "testPredictPlot = np.empty_like(OHLC_avg)\n",
    "testPredictPlot[:, :] = np.nan\n",
    "testPredictPlot[len(trainPredict)+(step_size*2)+1:len(OHLC_avg)-1, :] = testPredict"
   ]
  },
  {
   "cell_type": "code",
   "execution_count": 22,
   "id": "c9e7c7c0",
   "metadata": {},
   "outputs": [],
   "source": [
    "# DE-NORMALIZING MAIN DATASET \n",
    "OHLC_avg = scaler.inverse_transform(OHLC_avg)"
   ]
  },
  {
   "cell_type": "code",
   "execution_count": 23,
   "id": "db290e2c",
   "metadata": {},
   "outputs": [
    {
     "data": {
      "image/png": "[encoded data removed]",
      "text/plain": [
       "<Figure size 432x288 with 1 Axes>"
      ]
     },
     "metadata": {
      "needs_background": "light"
     },
     "output_type": "display_data"
    }
   ],
   "source": [
    "# PLOT OF MAIN OHLC VALUES, TRAIN PREDICTIONS AND TEST PREDICTIONS\n",
    "plt.plot(OHLC_avg, 'g', label = 'original dataset')\n",
    "plt.plot(trainPredictPlot, 'r', label = 'training set')\n",
    "plt.plot(testPredictPlot, 'b', label = 'predicted stock price/test set')\n",
    "plt.legend(loc = 'upper right')\n",
    "plt.xlabel('Time in Days')\n",
    "plt.ylabel('OHLC Value of Apple Stocks')\n",
    "plt.show()"
   ]
  },
  {
   "cell_type": "code",
   "execution_count": 32,
   "id": "0c1942cb",
   "metadata": {},
   "outputs": [
    {
     "name": "stdout",
     "output_type": "stream",
     "text": [
      "1/1 [==============================] - 0s 53ms/step\n",
      "Last Day Value: 79.09894561767578\n",
      "Next Day Value: 23.401268005371094\n",
      "[79.098946    0.29584804]\n"
     ]
    }
   ],
   "source": [
    "# PREDICT FUTURE VALUES\n",
    "last_val = testPredict[-1]\n",
    "last_val_scaled = last_val/last_val\n",
    "next_val = model.predict(np.reshape(last_val_scaled, (1,1,1)))\n",
    "print (\"Last Day Value:\", last_val.item())\n",
    "print (\"Next Day Value:\", (last_val*next_val).item())\n",
    "print (np.append(last_val, next_val))"
   ]
  },
  {
   "cell_type": "code",
   "execution_count": null,
   "id": "d1508c1e",
   "metadata": {},
   "outputs": [],
   "source": []
  }
 ],
 "metadata": {
  "kernelspec": {
   "display_name": "Python 3 (ipykernel)",
   "language": "python",
   "name": "python3"
  },
  "language_info": {
   "codemirror_mode": {
    "name": "ipython",
    "version": 3
   },
   "file_extension": ".py",
   "mimetype": "text/x-python",
   "name": "python",
   "nbconvert_exporter": "python",
   "pygments_lexer": "ipython3",
   "version": "3.8.10"
  }
 },
 "nbformat": 4,
 "nbformat_minor": 5
}
